{
 "cells": [
  {
   "cell_type": "markdown",
   "id": "8cad00d4-fb97-4f09-bf25-096c91437255",
   "metadata": {},
   "source": [
    "# Simple RAG: \n",
    "\n",
    "In this Tutorial we will review full RAG pipeline process: scarpe, index, Retrieve and generate.\n",
    "\n",
    "In this demo we will take Dr Yozevitch Personal Webiste. and try to run Q&A about the website content. \n",
    "\n"
   ]
  },
  {
   "cell_type": "markdown",
   "id": "b107b8d4-e18f-4994-a192-e6d62916792e",
   "metadata": {},
   "source": [
    "<div style=\"padding-top: 20px;\"></div>\n",
    "<div style=\"padding-bottom: 30px;\"></div>"
   ]
  },
  {
   "cell_type": "markdown",
   "id": "79b049af-d731-4ce3-bddb-6be354311f99",
   "metadata": {},
   "source": [
    "This Figure below shows the Rag Pipleline Different Parts. each one of these parts have different algoriths to imporove the overall pipeline"
   ]
  },
  {
   "cell_type": "markdown",
   "id": "f3a9c69f-e1c2-40db-8ce5-f52f3102df68",
   "metadata": {},
   "source": [
    "![Alt Text](rag_flow.jpeg)\n"
   ]
  },
  {
   "cell_type": "markdown",
   "id": "a4b5981c-ae8c-42ad-880c-d49d770afec0",
   "metadata": {
    "jp-MarkdownHeadingCollapsed": true
   },
   "source": [
    "## Install Libraries"
   ]
  },
  {
   "cell_type": "code",
   "execution_count": 1,
   "id": "65e315f9-9710-443b-b23b-61dc60df808e",
   "metadata": {},
   "outputs": [],
   "source": [
    "%%capture --no-stderr\n",
    "! pip install -U langchain_community tiktoken langchain-openai langchain-cohere langchainhub chromadb langchain langgraph  tavily-python"
   ]
  },
  {
   "cell_type": "code",
   "execution_count": 2,
   "id": "f58c0cb2-3994-4c0b-ae65-154367414524",
   "metadata": {},
   "outputs": [],
   "source": [
    "!pip install -qU langchain-pinecone pinecone-notebooks"
   ]
  },
  {
   "cell_type": "markdown",
   "id": "a630e670-c148-4a40-a47c-14ec9fcf85c3",
   "metadata": {
    "jp-MarkdownHeadingCollapsed": true
   },
   "source": [
    "## Set ENVs"
   ]
  },
  {
   "cell_type": "code",
   "execution_count": 1,
   "id": "3965872b-1ce8-4db5-ba0f-a56a568f47cb",
   "metadata": {},
   "outputs": [
    {
     "name": "stdin",
     "output_type": "stream",
     "text": [
      "OPENAI_API_KEY:  ········\n",
      "TAVILY_API_KEY:  ········\n"
     ]
    }
   ],
   "source": [
    "import getpass\n",
    "import os\n",
    "\n",
    "def _set_env(var: str):\n",
    "    if not os.environ.get(var):\n",
    "        os.environ[var] = getpass.getpass(f\"{var}: \")\n",
    "\n",
    "\n",
    "_set_env(\"OPENAI_API_KEY\")\n",
    "#_set_env(\"COHERE_API_KEY\")\n",
    "_set_env(\"TAVILY_API_KEY\")"
   ]
  },
  {
   "cell_type": "code",
   "execution_count": 2,
   "id": "25141d58-0f25-4f7e-a346-396d5adde936",
   "metadata": {},
   "outputs": [
    {
     "name": "stdin",
     "output_type": "stream",
     "text": [
      "LANGCHAIN_API_KEY:  ········\n"
     ]
    }
   ],
   "source": [
    "_set_env(\"LANGCHAIN_API_KEY\")\n",
    "os.environ[\"LANGCHAIN_TRACING_V2\"] = \"true\"\n",
    "os.environ[\"LANGCHAIN_PROJECT\"] = \"langchain-academy\""
   ]
  },
  {
   "cell_type": "code",
   "execution_count": 3,
   "id": "41564f37-cb2a-4e26-83e7-e8df10346e6e",
   "metadata": {},
   "outputs": [
    {
     "name": "stdin",
     "output_type": "stream",
     "text": [
      "PINECONE_API_KEY:  ········\n"
     ]
    }
   ],
   "source": [
    "_set_env(\"PINECONE_API_KEY\")#pcsk_2GcmQF_SWzcU1hhvJxDBuJ9KNcRpzeyoQ6Cvu7Wt64yAWSq7JYoxQvKqAWGFLM68SvTrna"
   ]
  },
  {
   "cell_type": "markdown",
   "id": "d968dfac-77bc-4d68-a497-500a919dffa5",
   "metadata": {
    "jp-MarkdownHeadingCollapsed": true
   },
   "source": [
    "## Indexing"
   ]
  },
  {
   "cell_type": "code",
   "execution_count": 30,
   "id": "5f143343-19ac-4da6-9724-d820dce6918d",
   "metadata": {},
   "outputs": [],
   "source": [
    "### Import Libraries\n",
    "from langchain.text_splitter import RecursiveCharacterTextSplitter\n",
    "from langchain_community.document_loaders import WebBaseLoader\n",
    "from langchain_community.vectorstores import Chroma\n",
    "from langchain_pinecone import PineconeVectorStore\n",
    "from pinecone import Pinecone\n",
    "from langchain_openai import OpenAIEmbeddings"
   ]
  },
  {
   "cell_type": "markdown",
   "id": "9b0cd330-e8f1-4e59-9035-c43af8de0e4f",
   "metadata": {},
   "source": [
    "Data scarping using the WebBaseLoader Module (based on BS).\n",
    "\n",
    "Generate a 200 tokens chunks with 20 tokens overlap"
   ]
  },
  {
   "cell_type": "code",
   "execution_count": 6,
   "id": "3321fe53-bb91-47fd-8f5a-2eccaf05c45e",
   "metadata": {},
   "outputs": [
    {
     "name": "stderr",
     "output_type": "stream",
     "text": [
      "USER_AGENT environment variable not set, consider setting it to identify your requests.\n",
      "/opt/homebrew/anaconda3/envs/langgraph_v1/lib/python3.11/site-packages/pinecone/data/index.py:1: TqdmWarning: IProgress not found. Please update jupyter and ipywidgets. See https://ipywidgets.readthedocs.io/en/stable/user_install.html\n",
      "  from tqdm.autonotebook import tqdm\n"
     ]
    }
   ],
   "source": [
    "# Docs to index\n",
    "urls = [\n",
    "    \"https://www.yozevitch.com/yozevitch-homepage-1/\",\n",
    "    \"https://www.yozevitch.com/yozevitch-research/\",\n",
    "]\n",
    "\n",
    "# Load\n",
    "docs = [WebBaseLoader(url).load() for url in urls]\n",
    "\n",
    "docs_list = [item for sublist in docs for item in sublist]\n",
    "\n",
    "# Split\n",
    "text_splitter = RecursiveCharacterTextSplitter.from_tiktoken_encoder(\n",
    "    chunk_size=200, chunk_overlap=20\n",
    ")\n",
    "doc_splits = text_splitter.split_documents(docs_list)\n"
   ]
  },
  {
   "cell_type": "markdown",
   "id": "97a8a6b7-e6c2-4fb3-a8c3-12231cb3672f",
   "metadata": {},
   "source": [
    "The Chunks docs"
   ]
  },
  {
   "cell_type": "code",
   "execution_count": 7,
   "id": "583f182d-53c6-4b47-8cc9-c9cd57caa367",
   "metadata": {},
   "outputs": [
    {
     "data": {
      "text/plain": [
       "[Document(metadata={'source': 'https://www.yozevitch.com/yozevitch-homepage-1/', 'title': 'Dr. Roi Yozevitch', 'description': \"Find out about Dr. Roi Yozevitch's fields of research, his lectures, and A.I. services for academia. \", 'language': 'en'}, page_content='Dr. Roi Yozevitch'),\n",
       " Document(metadata={'source': 'https://www.yozevitch.com/yozevitch-homepage-1/', 'title': 'Dr. Roi Yozevitch', 'description': \"Find out about Dr. Roi Yozevitch's fields of research, his lectures, and A.I. services for academia. \", 'language': 'en'}, page_content='top of pageדף הביתלהיות שותפיםהרצאותהרצאה על בינה מלאכותית\\x00קורסים דיגיטלייםקורס בינה מלאכותית למתחיליםקורס הצלחה בלימודיםסדנת מצוינות באקדמיהספריםאינטליגנציה - האמת הלא'),\n",
       " Document(metadata={'source': 'https://www.yozevitch.com/yozevitch-homepage-1/', 'title': 'Dr. Roi Yozevitch', 'description': \"Find out about Dr. Roi Yozevitch's fields of research, his lectures, and A.I. services for academia. \", 'language': 'en'}, page_content='- האמת הלא נעימהייעוץ לחברותפודקאסטעוד...Use tab to navigate through the menu items.כניסה למערכת\\xa0A.I. Services & Content for ConferencesDr. Roi Yozevitch'),\n",
       " Document(metadata={'source': 'https://www.yozevitch.com/yozevitch-homepage-1/', 'title': 'Dr. Roi Yozevitch', 'description': \"Find out about Dr. Roi Yozevitch's fields of research, his lectures, and A.I. services for academia. \", 'language': 'en'}, page_content='Dr. Yozevitch is one of Israel’s experts on the education revolution and thinking outside the\\xa0box. His fields of interest include academic research, writing books, developing artificial\\xa0intelligence for various purposes and promoting education and science through his YouTube\\xa0channel, podcast and lectures around the world. It can be summarized and said that he is\\xa0doing his best to make the world a better place through science and excellence. He is an\\xa0independent researcher at Ariel and Bar-Ilan Universities in the field of Artificial Intelligence\\xa0and Machine Learning. You are welcome to read here on each of his areas of business, order\\xa0books and be interested in collaborations. Dr. Yozevitch’s lectures offers the spectators a\\xa0thought-provoking presentation of the latest technological advances in the field of AI. He\\xa0has spent the last decade lecturing and performing throughout Israel and the world,\\xa0including China, Germany, England, the U.S and'),\n",
       " Document(metadata={'source': 'https://www.yozevitch.com/yozevitch-homepage-1/', 'title': 'Dr. Roi Yozevitch', 'description': \"Find out about Dr. Roi Yozevitch's fields of research, his lectures, and A.I. services for academia. \", 'language': 'en'}, page_content='performing throughout Israel and the world,\\xa0including China, Germany, England, the U.S and more.A.I. servicesHome PageResearchAbout Dr. YozevitchConference TalksA.I. servicesA.I. ServicesDr. Roi Yozevitch offers Deep-Learning services for companies and academia. His specialty is vision-based CNN.'),\n",
       " Document(metadata={'source': 'https://www.yozevitch.com/yozevitch-homepage-1/', 'title': 'Dr. Roi Yozevitch', 'description': \"Find out about Dr. Roi Yozevitch's fields of research, his lectures, and A.I. services for academia. \", 'language': 'en'}, page_content='\\u200b\\nPlease contact Dr. Yozevitch for further details via this form.conference talksConference TalksArtificial intelligence - a fascinating talkArtificial intelligence means different things to different people. From computers that can already replace us in the workplace to apocalyptic visions of the Matrix. In this fascinating lecture, Dr. Yozevitch\\xa0makes an order in the field everyone talks about. What philosophical questions arise from thinking machines and how it really works. Most importantly, where lies the borderline between a smart calculator and a machine with thinking abilities?\\xa0\\n\\u200b'),\n",
       " Document(metadata={'source': 'https://www.yozevitch.com/yozevitch-homepage-1/', 'title': 'Dr. Roi Yozevitch', 'description': \"Find out about Dr. Roi Yozevitch's fields of research, his lectures, and A.I. services for academia. \", 'language': 'en'}, page_content=\"\\u200b\\nAfter reviewing the A.I threats, Roi presents the solutions for a safer future. He gives the audience motivation for excellence and improvement\\xa0both in personal and professional aspects. The future is a little worrisome, but it has a lot of hope and countless possibilities. The opportunities for education and professional flexibility are extraordinary. Real equality of opportunity allows everyone to fulfill his or her ambitions without excuses. The lecture's message: Take advantage of the variety of tools offered today to advance and excel.A taste from the I.Q.\\xa0LectureContact RoiFeel free to contact Roy about your upcoming conference.Thanks! Message sent.Sendoffice@yozevitch.com\\xa0A.I. Counseling & Content for ConferencesDr. Roi Yozevitchלפרטים נוספים:office@yozevitch.com\"),\n",
       " Document(metadata={'source': 'https://www.yozevitch.com/yozevitch-homepage-1/', 'title': 'Dr. Roi Yozevitch', 'description': \"Find out about Dr. Roi Yozevitch's fields of research, his lectures, and A.I. services for academia. \", 'language': 'en'}, page_content='bottom of page'),\n",
       " Document(metadata={'source': 'https://www.yozevitch.com/yozevitch-research/', 'title': 'Research | yozevitch', 'description': \"Roi Yozevitch's research fields. \", 'language': 'en'}, page_content='Research | yozevitch'),\n",
       " Document(metadata={'source': 'https://www.yozevitch.com/yozevitch-research/', 'title': 'Research | yozevitch', 'description': \"Roi Yozevitch's research fields. \", 'language': 'en'}, page_content='top of pageדף הביתלהיות שותפיםהרצאותהרצאה על בינה מלאכותיתקורסים דיגיטלייםקורס בינה מלאכותית למתחיליםקורס הצלחה בלימודיםסדנת מצוינות באקדמיהספריםאינטליגנציה - האמת הלא נעימהייעוץ'),\n",
       " Document(metadata={'source': 'https://www.yozevitch.com/yozevitch-research/', 'title': 'Research | yozevitch', 'description': \"Roi Yozevitch's research fields. \", 'language': 'en'}, page_content=\"הלא נעימהייעוץ לחברותפודקאסטעוד...Use tab to navigate through the menu items.כניסה למערכתHome PageResearchAbout Dr. YozevitchConference TalksA.I. servicesDr. Yozevitch's Research FieldsMy Main interest is applying machine learning and deep learning in order to solve problems in the Humanities realm. Among others, incorporating computer vision and DL methods to classify motoric-cognitive abilities among children and youth. Another research aims to detect neural synchrony states by utilizing data obtained from a depth camera. My PhD dealt with GNSS accuracy improvement algorithms, mainly in dense urban environments. On this work I won the prestigious Wolf Scholarship, given each year to the most dozen promising students in Israel. One can read more in the\"),\n",
       " Document(metadata={'source': 'https://www.yozevitch.com/yozevitch-research/', 'title': 'Research | yozevitch', 'description': \"Roi Yozevitch's research fields. \", 'language': 'en'}, page_content='Scholarship, given each year to the most dozen promising students in Israel. One can read more in the KC&G lab (Kinematic and Computational Geometry) or visit my Google Scholar Page.GNSS Accuracy improvementFor urban canyon GNSS accuracy improvement, the KCG lab is a serious source of knowledge with serval patents in the field. Commercial GNSS devices tend to perform poorly in urban canyon environments. The dense and tall buildings block the signals from many of the satellites. In the KCG lab, we developed a particle filter algorithm for the Shadow-Matching framework to face this problem.'),\n",
       " Document(metadata={'source': 'https://www.yozevitch.com/yozevitch-research/', 'title': 'Research | yozevitch', 'description': \"Roi Yozevitch's research fields. \", 'language': 'en'}, page_content='Given a 3D city map and given the satellites’ signal properties, the algorithm calculates in real-time invalid regions inside the Region Of Interest (ROI). This approach reduces the ROI to a fraction of its original size. We present a general framework for Shadow Matching positioning algorithm based on a modified particle filter. Using simulation experiments we have shown that the suggested method can improve the accuracy of existing GNSS devices in urban regions. Moreover, the proposed algorithm can be efficiently extended to 3D positioning in a high sampling rate, inherently applicable for UAVs and Drones.cognitive-motoric assessments using A.I.This study deals with the creation of a learning system based on hybrid NN (image + metadata) for an objective, accurate and rapid analysis of motor-cognitive abilities. The idea is to provide an assessment of these abilities in the test taker (children and adults) by analyzing the forms they copy on a tablet using a smartpen.'),\n",
       " Document(metadata={'source': 'https://www.yozevitch.com/yozevitch-research/', 'title': 'Research | yozevitch', 'description': \"Roi Yozevitch's research fields. \", 'language': 'en'}, page_content='Among the innovations of the proposed system is the use of metrics that have not been available to researchers so far, in both quality and quantity. Among other things, the strength and grip of the pen throughout the test at a resolution unavailable to a human examiner.\\nThe research is conducted at Bar-Ilan University with Professor Rachel Sheiff.Nano SatellitesAs part of my research in the Kinematic and computational Geometry lab, I was also involved in the \"Satlla project\" is the most pretentious research project ever conducted In the KCG lab. The realm of nanosatellite is an ever-growing field in the industry. Alas, most nanosatellites rely on commercial of-the-self modules. In the KCG lab, we think differently.\\nFirst, we designed and built the entire electronics of the satellite. Thus, the system is much more flexible to any modifications that need to be done.'),\n",
       " Document(metadata={'source': 'https://www.yozevitch.com/yozevitch-research/', 'title': 'Research | yozevitch', 'description': \"Roi Yozevitch's research fields. \", 'language': 'en'}, page_content='Second, the Sattla 1.0 works with several new communication modules: the commercial APRS (UHV/VHV), Iridium, STX satellite modem by globalsat, Lora 2.4, and Lora 433Mhz.\\n\\xa0\\nThird, the satellite is equipped with 40 high-amp LEDs that can transmit serial communication in rate up to 1 Mhz. This FSO (Free Space Optics) communication can open a new field of swarm satellite optic communication.\\nFourth, one of the modules is a Spectro gamma device designed to record electromagnetic storm in the LEO height (200-600 km). This research will enable far more accurate predictions of geo-events such as earthquakes, tsunamis, etc.לפרטים נוספים:office@yozevitch.com'),\n",
       " Document(metadata={'source': 'https://www.yozevitch.com/yozevitch-research/', 'title': 'Research | yozevitch', 'description': \"Roi Yozevitch's research fields. \", 'language': 'en'}, page_content='bottom of page')]"
      ]
     },
     "execution_count": 7,
     "metadata": {},
     "output_type": "execute_result"
    }
   ],
   "source": [
    "doc_splits"
   ]
  },
  {
   "cell_type": "markdown",
   "id": "584369f0-f182-4bf9-8e11-97b6187009e8",
   "metadata": {
    "jp-MarkdownHeadingCollapsed": true
   },
   "source": [
    "## Pinecone Vector Store\n",
    "\n",
    "Using OpenAI Embeddings to convert the chunks into vectors.\n",
    "\n",
    "Store the vector in a vector store using Pinecone service."
   ]
  },
  {
   "cell_type": "code",
   "execution_count": 10,
   "id": "1ff73603-3e69-4937-b42d-1d4b62bd7f66",
   "metadata": {},
   "outputs": [],
   "source": [
    "# Pinecone\n",
    "pinecone_api_key = os.environ.get(\"PINECONE_API_KEY\")\n",
    "pc = Pinecone(api_key=pinecone_api_key)\n",
    "\n",
    "index_name = pc.Index(\"dr-yozevitch-v1\")\n",
    "\n",
    "embeddings = OpenAIEmbeddings(\n",
    "    model=\"text-embedding-3-large\",\n",
    "    # dimensions=3072\n",
    ")\n",
    "# use this in case you would like to add docs vector\n",
    "#vector_store = PineconeVectorStore.from_documents(doc_splits, embeddings, index_name = \"dr-yozevitch-v1\")\n",
    "\n",
    "# use this only to initialize exist vector store\n",
    "vector_store = PineconeVectorStore(index_name=\"dr-yozevitch-v1\", embedding=embeddings)"
   ]
  },
  {
   "cell_type": "markdown",
   "id": "304374c4-3e2c-460e-8705-16ac3ec7689b",
   "metadata": {
    "jp-MarkdownHeadingCollapsed": true
   },
   "source": [
    "## Retriever \n",
    "\n",
    "Convert the vector store database into a retriever so we can query and retrieve the context. based on cosine similarity"
   ]
  },
  {
   "cell_type": "code",
   "execution_count": 11,
   "id": "7784bfad-47e2-49f5-b3a9-27adbadcfd55",
   "metadata": {},
   "outputs": [],
   "source": [
    "retriever = vector_store.as_retriever()#search_kwargs={\"k\": 3}"
   ]
  },
  {
   "cell_type": "markdown",
   "id": "69da3138-9702-49e5-867a-1008219f9308",
   "metadata": {},
   "source": [
    "**Query \"dr-yozevitch-v1\" Pinecone Index Example**"
   ]
  },
  {
   "cell_type": "code",
   "execution_count": 31,
   "id": "a66d2456-d173-4ce2-a89a-7ccdb48cb5fd",
   "metadata": {},
   "outputs": [
    {
     "data": {
      "text/plain": [
       "[Document(id='dca822f8-2432-47b6-9017-2a1046c74bcf', metadata={'description': \"Find out about Dr. Roi Yozevitch's fields of research, his lectures, and A.I. services for academia. \", 'language': 'en', 'source': 'https://www.yozevitch.com/yozevitch-homepage-1/', 'title': 'Dr. Roi Yozevitch'}, page_content=\"\\u200b\\nAfter reviewing the A.I threats, Roi presents the solutions for a safer future. He gives the audience motivation for excellence and improvement\\xa0both in personal and professional aspects. The future is a little worrisome, but it has a lot of hope and countless possibilities. The opportunities for education and professional flexibility are extraordinary. Real equality of opportunity allows everyone to fulfill his or her ambitions without excuses. The lecture's message: Take advantage of the variety of tools offered today to advance and excel.A taste from the I.Q.\\xa0LectureContact RoiFeel free to contact Roy about your upcoming conference.Thanks! Message sent.Sendoffice@yozevitch.com\\xa0A.I. Counseling & Content for ConferencesDr. Roi Yozevitchלפרטים נוספים:office@yozevitch.com\"),\n",
       " Document(id='319c8e00-b886-4940-a7d9-51399aea0ad4', metadata={'description': \"Find out about Dr. Roi Yozevitch's fields of research, his lectures, and A.I. services for academia. \", 'language': 'en', 'source': 'https://www.yozevitch.com/yozevitch-homepage-1/', 'title': 'Dr. Roi Yozevitch'}, page_content='Dr. Roi Yozevitch'),\n",
       " Document(id='95fbf47a-eaec-4220-bc93-8da815cad52d', metadata={'description': \"Find out about Dr. Roi Yozevitch's fields of research, his lectures, and A.I. services for academia. \", 'language': 'en', 'source': 'https://www.yozevitch.com/yozevitch-homepage-1/', 'title': 'Dr. Roi Yozevitch'}, page_content='performing throughout Israel and the world,\\xa0including China, Germany, England, the U.S and more.A.I. servicesHome PageResearchAbout Dr. YozevitchConference TalksA.I. servicesA.I. ServicesDr. Roi Yozevitch offers Deep-Learning services for companies and academia. His specialty is vision-based CNN.'),\n",
       " Document(id='9f3bb610-33c2-4dfc-baf2-913d33a19c0f', metadata={'description': \"Roi Yozevitch's research fields. \", 'language': 'en', 'source': 'https://www.yozevitch.com/yozevitch-research/', 'title': 'Research | yozevitch'}, page_content='Among the innovations of the proposed system is the use of metrics that have not been available to researchers so far, in both quality and quantity. Among other things, the strength and grip of the pen throughout the test at a resolution unavailable to a human examiner.\\nThe research is conducted at Bar-Ilan University with Professor Rachel Sheiff.Nano SatellitesAs part of my research in the Kinematic and computational Geometry lab, I was also involved in the \"Satlla project\" is the most pretentious research project ever conducted In the KCG lab. The realm of nanosatellite is an ever-growing field in the industry. Alas, most nanosatellites rely on commercial of-the-self modules. In the KCG lab, we think differently.\\nFirst, we designed and built the entire electronics of the satellite. Thus, the system is much more flexible to any modifications that need to be done.')]"
      ]
     },
     "execution_count": 31,
     "metadata": {},
     "output_type": "execute_result"
    }
   ],
   "source": [
    "# an example for retrieval similiar context\n",
    "retriever.invoke(\"what happened to Roi that made him presents the solutions for a safer future?\")"
   ]
  },
  {
   "cell_type": "code",
   "execution_count": 15,
   "id": "dce28850-4244-4a5b-99e8-e0331841762d",
   "metadata": {},
   "outputs": [],
   "source": [
    "# Post-processing: extract the content of each Doc Object\n",
    "def format_docs(docs):\n",
    "    return \"\\n\\n\".join(doc.page_content for doc in docs)"
   ]
  },
  {
   "cell_type": "markdown",
   "id": "e72615cd-1dbe-4423-bc8e-bbecfea026ad",
   "metadata": {
    "jp-MarkdownHeadingCollapsed": true
   },
   "source": [
    "## Generation \n",
    "\n",
    "Using the prompt to generate a context based prompt to feed the LLM"
   ]
  },
  {
   "cell_type": "code",
   "execution_count": 46,
   "id": "73d16e98-a41d-4a96-b15a-bdf70f818b6f",
   "metadata": {},
   "outputs": [
    {
     "name": "stdout",
     "output_type": "stream",
     "text": [
      " ---- Retreiver Prompt Template: ----\n",
      "You are an assistant for question-answering tasks. Use the following pieces of retrieved context to answer the question. If you don't know the answer, just say that you don't know. Use three sentences maximum and keep the answer concise.\n",
      "Question: {question} \n",
      "Context: {context} \n",
      "Answer:\n"
     ]
    }
   ],
   "source": [
    "### Generate\n",
    "from langchain import hub\n",
    "from langchain_core.output_parsers import StrOutputParser\n",
    "from langchain_openai import ChatOpenAI\n",
    "\n",
    "# Prompt\n",
    "prompt = hub.pull(\"rlm/rag-prompt\")\n",
    "\n",
    "print(\" ---- Retreiver Prompt Template: ----\")\n",
    "print(prompt.messages[0].prompt.template)\n",
    "\n",
    "# LLM\n",
    "llm = ChatOpenAI(model_name=\"gpt-3.5-turbo\", temperature=0)\n",
    "\n",
    "# Chain\n",
    "rag_chain = prompt | llm | StrOutputParser()\n"
   ]
  },
  {
   "cell_type": "markdown",
   "id": "d08168c5-e7c6-4569-9f9d-228eb7c5623a",
   "metadata": {
    "jp-MarkdownHeadingCollapsed": true
   },
   "source": [
    "## **Examples**\n",
    "\n",
    "Running Q&A to test the retriever chain results"
   ]
  },
  {
   "cell_type": "code",
   "execution_count": null,
   "id": "0d3901cd-8836-4a1a-94a5-f10407dfbe8a",
   "metadata": {},
   "outputs": [],
   "source": [
    "q_1 = \"what happened to Roi that made him presents the solutions for a safer future?\"\n",
    "q_2 = \"In which Universities does Dr Yozevich research ?\"\n",
    "q_3 = \"what was Dr Yozevoch PhD about?\""
   ]
  },
  {
   "cell_type": "markdown",
   "id": "37677cbd-38cb-434c-80a3-14e46c10308e",
   "metadata": {},
   "source": [
    "**Example 1**"
   ]
  },
  {
   "cell_type": "code",
   "execution_count": 24,
   "id": "df694b6f-133d-4fe6-9c2c-f96f52a94c2d",
   "metadata": {},
   "outputs": [
    {
     "name": "stdout",
     "output_type": "stream",
     "text": [
      "######## Retreival Context #########\n",
      "[Document(id='dca822f8-2432-47b6-9017-2a1046c74bcf', metadata={'description': \"Find out about Dr. Roi Yozevitch's fields of research, his lectures, and A.I. services for academia. \", 'language': 'en', 'source': 'https://www.yozevitch.com/yozevitch-homepage-1/', 'title': 'Dr. Roi Yozevitch'}, page_content=\"\\u200b\\nAfter reviewing the A.I threats, Roi presents the solutions for a safer future. He gives the audience motivation for excellence and improvement\\xa0both in personal and professional aspects. The future is a little worrisome, but it has a lot of hope and countless possibilities. The opportunities for education and professional flexibility are extraordinary. Real equality of opportunity allows everyone to fulfill his or her ambitions without excuses. The lecture's message: Take advantage of the variety of tools offered today to advance and excel.A taste from the I.Q.\\xa0LectureContact RoiFeel free to contact Roy about your upcoming conference.Thanks! Message sent.Sendoffice@yozevitch.com\\xa0A.I. Counseling & Content for ConferencesDr. Roi Yozevitchלפרטים נוספים:office@yozevitch.com\"), Document(id='319c8e00-b886-4940-a7d9-51399aea0ad4', metadata={'description': \"Find out about Dr. Roi Yozevitch's fields of research, his lectures, and A.I. services for academia. \", 'language': 'en', 'source': 'https://www.yozevitch.com/yozevitch-homepage-1/', 'title': 'Dr. Roi Yozevitch'}, page_content='Dr. Roi Yozevitch'), Document(id='95fbf47a-eaec-4220-bc93-8da815cad52d', metadata={'description': \"Find out about Dr. Roi Yozevitch's fields of research, his lectures, and A.I. services for academia. \", 'language': 'en', 'source': 'https://www.yozevitch.com/yozevitch-homepage-1/', 'title': 'Dr. Roi Yozevitch'}, page_content='performing throughout Israel and the world,\\xa0including China, Germany, England, the U.S and more.A.I. servicesHome PageResearchAbout Dr. YozevitchConference TalksA.I. servicesA.I. ServicesDr. Roi Yozevitch offers Deep-Learning services for companies and academia. His specialty is vision-based CNN.'), Document(id='9f3bb610-33c2-4dfc-baf2-913d33a19c0f', metadata={'description': \"Roi Yozevitch's research fields. \", 'language': 'en', 'source': 'https://www.yozevitch.com/yozevitch-research/', 'title': 'Research | yozevitch'}, page_content='Among the innovations of the proposed system is the use of metrics that have not been available to researchers so far, in both quality and quantity. Among other things, the strength and grip of the pen throughout the test at a resolution unavailable to a human examiner.\\nThe research is conducted at Bar-Ilan University with Professor Rachel Sheiff.Nano SatellitesAs part of my research in the Kinematic and computational Geometry lab, I was also involved in the \"Satlla project\" is the most pretentious research project ever conducted In the KCG lab. The realm of nanosatellite is an ever-growing field in the industry. Alas, most nanosatellites rely on commercial of-the-self modules. In the KCG lab, we think differently.\\nFirst, we designed and built the entire electronics of the satellite. Thus, the system is much more flexible to any modifications that need to be done.')]\n"
     ]
    }
   ],
   "source": [
    "res = retriever.invoke(q_1)\n",
    "print(\"######## Retreival Context #########\")\n",
    "print(res)"
   ]
  },
  {
   "cell_type": "code",
   "execution_count": 25,
   "id": "ccb8c691-d680-4ec7-9f2e-1b5f2dfa0300",
   "metadata": {},
   "outputs": [
    {
     "name": "stdout",
     "output_type": "stream",
     "text": [
      "######## Final Answer #########\n",
      "After reviewing A.I threats, Roi presents solutions for a safer future, motivating excellence and improvement. The future holds hope and countless possibilities, with extraordinary opportunities for education and professional flexibility. Real equality of opportunity allows everyone to fulfill ambitions without excuses.\n"
     ]
    }
   ],
   "source": [
    "print(\"######## Final Answer #########\")\n",
    "generation = rag_chain.invoke({\"context\": format_docs(res), \"question\": q_1})\n",
    "print(generation)"
   ]
  },
  {
   "cell_type": "markdown",
   "id": "9d66d92d-7e75-45b3-825c-e37642dad0cf",
   "metadata": {},
   "source": [
    "**Example 2**"
   ]
  },
  {
   "cell_type": "code",
   "execution_count": 26,
   "id": "7080484a-d28c-41b6-ba2c-574f31ab0aa0",
   "metadata": {},
   "outputs": [
    {
     "name": "stdout",
     "output_type": "stream",
     "text": [
      "######## Retreival Context #########\n",
      "[Document(id='297c215d-e00e-45a9-9c35-92ca6b3b8046', metadata={'description': \"Find out about Dr. Roi Yozevitch's fields of research, his lectures, and A.I. services for academia. \", 'language': 'en', 'source': 'https://www.yozevitch.com/yozevitch-homepage-1/', 'title': 'Dr. Roi Yozevitch'}, page_content='Dr. Yozevitch is one of Israel’s experts on the education revolution and thinking outside the\\xa0box. His fields of interest include academic research, writing books, developing artificial\\xa0intelligence for various purposes and promoting education and science through his YouTube\\xa0channel, podcast and lectures around the world. It can be summarized and said that he is\\xa0doing his best to make the world a better place through science and excellence. He is an\\xa0independent researcher at Ariel and Bar-Ilan Universities in the field of Artificial Intelligence\\xa0and Machine Learning. You are welcome to read here on each of his areas of business, order\\xa0books and be interested in collaborations. Dr. Yozevitch’s lectures offers the spectators a\\xa0thought-provoking presentation of the latest technological advances in the field of AI. He\\xa0has spent the last decade lecturing and performing throughout Israel and the world,\\xa0including China, Germany, England, the U.S and'), Document(id='319c8e00-b886-4940-a7d9-51399aea0ad4', metadata={'description': \"Find out about Dr. Roi Yozevitch's fields of research, his lectures, and A.I. services for academia. \", 'language': 'en', 'source': 'https://www.yozevitch.com/yozevitch-homepage-1/', 'title': 'Dr. Roi Yozevitch'}, page_content='Dr. Roi Yozevitch'), Document(id='ad79417a-2072-472d-8998-50b4311f1af5', metadata={'description': \"Roi Yozevitch's research fields. \", 'language': 'en', 'source': 'https://www.yozevitch.com/yozevitch-research/', 'title': 'Research | yozevitch'}, page_content='Research | yozevitch'), Document(id='01774111-22d9-4e10-af34-d8fba1bb3a19', metadata={'description': \"Roi Yozevitch's research fields. \", 'language': 'en', 'source': 'https://www.yozevitch.com/yozevitch-research/', 'title': 'Research | yozevitch'}, page_content=\"הלא נעימהייעוץ לחברותפודקאסטעוד...Use tab to navigate through the menu items.כניסה למערכתHome PageResearchAbout Dr. YozevitchConference TalksA.I. servicesDr. Yozevitch's Research FieldsMy Main interest is applying machine learning and deep learning in order to solve problems in the Humanities realm. Among others, incorporating computer vision and DL methods to classify motoric-cognitive abilities among children and youth. Another research aims to detect neural synchrony states by utilizing data obtained from a depth camera. My PhD dealt with GNSS accuracy improvement algorithms, mainly in dense urban environments. On this work I won the prestigious Wolf Scholarship, given each year to the most dozen promising students in Israel. One can read more in the\")]\n"
     ]
    }
   ],
   "source": [
    "res = retriever.invoke(q_2)\n",
    "print(\"######## Retreival Context #########\")\n",
    "print(res)"
   ]
  },
  {
   "cell_type": "code",
   "execution_count": 27,
   "id": "61b734e2-ebf5-4003-a4f2-521db084f17e",
   "metadata": {},
   "outputs": [
    {
     "name": "stdout",
     "output_type": "stream",
     "text": [
      "######## Final Answer #########\n",
      "Dr. Yozevitch is an independent researcher at Ariel and Bar-Ilan Universities in the field of Artificial Intelligence and Machine Learning.\n"
     ]
    }
   ],
   "source": [
    "print(\"######## Final Answer #########\")\n",
    "generation = rag_chain.invoke({\"context\": format_docs(res), \"question\": q_2})\n",
    "print(generation)"
   ]
  },
  {
   "cell_type": "markdown",
   "id": "b00f1ece-69ed-426f-8235-817b9d45ca1c",
   "metadata": {},
   "source": [
    "**Example 3**"
   ]
  },
  {
   "cell_type": "code",
   "execution_count": 28,
   "id": "70cc24a6-98b3-4eec-9260-cad445cd3d36",
   "metadata": {},
   "outputs": [
    {
     "name": "stdout",
     "output_type": "stream",
     "text": [
      "######## Retreival Context #########\n",
      "[Document(id='297c215d-e00e-45a9-9c35-92ca6b3b8046', metadata={'description': \"Find out about Dr. Roi Yozevitch's fields of research, his lectures, and A.I. services for academia. \", 'language': 'en', 'source': 'https://www.yozevitch.com/yozevitch-homepage-1/', 'title': 'Dr. Roi Yozevitch'}, page_content='Dr. Yozevitch is one of Israel’s experts on the education revolution and thinking outside the\\xa0box. His fields of interest include academic research, writing books, developing artificial\\xa0intelligence for various purposes and promoting education and science through his YouTube\\xa0channel, podcast and lectures around the world. It can be summarized and said that he is\\xa0doing his best to make the world a better place through science and excellence. He is an\\xa0independent researcher at Ariel and Bar-Ilan Universities in the field of Artificial Intelligence\\xa0and Machine Learning. You are welcome to read here on each of his areas of business, order\\xa0books and be interested in collaborations. Dr. Yozevitch’s lectures offers the spectators a\\xa0thought-provoking presentation of the latest technological advances in the field of AI. He\\xa0has spent the last decade lecturing and performing throughout Israel and the world,\\xa0including China, Germany, England, the U.S and'), Document(id='319c8e00-b886-4940-a7d9-51399aea0ad4', metadata={'description': \"Find out about Dr. Roi Yozevitch's fields of research, his lectures, and A.I. services for academia. \", 'language': 'en', 'source': 'https://www.yozevitch.com/yozevitch-homepage-1/', 'title': 'Dr. Roi Yozevitch'}, page_content='Dr. Roi Yozevitch'), Document(id='ad79417a-2072-472d-8998-50b4311f1af5', metadata={'description': \"Roi Yozevitch's research fields. \", 'language': 'en', 'source': 'https://www.yozevitch.com/yozevitch-research/', 'title': 'Research | yozevitch'}, page_content='Research | yozevitch'), Document(id='01774111-22d9-4e10-af34-d8fba1bb3a19', metadata={'description': \"Roi Yozevitch's research fields. \", 'language': 'en', 'source': 'https://www.yozevitch.com/yozevitch-research/', 'title': 'Research | yozevitch'}, page_content=\"הלא נעימהייעוץ לחברותפודקאסטעוד...Use tab to navigate through the menu items.כניסה למערכתHome PageResearchAbout Dr. YozevitchConference TalksA.I. servicesDr. Yozevitch's Research FieldsMy Main interest is applying machine learning and deep learning in order to solve problems in the Humanities realm. Among others, incorporating computer vision and DL methods to classify motoric-cognitive abilities among children and youth. Another research aims to detect neural synchrony states by utilizing data obtained from a depth camera. My PhD dealt with GNSS accuracy improvement algorithms, mainly in dense urban environments. On this work I won the prestigious Wolf Scholarship, given each year to the most dozen promising students in Israel. One can read more in the\")]\n"
     ]
    }
   ],
   "source": [
    "res = retriever.invoke(q_3)\n",
    "print(\"######## Retreival Context #########\")\n",
    "print(res)"
   ]
  },
  {
   "cell_type": "code",
   "execution_count": 29,
   "id": "1da86600-2c1e-473e-8cf9-7cb958f3174c",
   "metadata": {},
   "outputs": [
    {
     "name": "stdout",
     "output_type": "stream",
     "text": [
      "######## Final Answer #########\n",
      "Dr. Yozevitch's PhD was about GNSS accuracy improvement algorithms, particularly in dense urban environments. His research also involves applying machine learning and deep learning to solve problems in the Humanities realm, such as classifying motoric-cognitive abilities among children and youth. Additionally, he works on detecting neural synchrony states using data from a depth camera.\n"
     ]
    }
   ],
   "source": [
    "print(\"######## Final Answer #########\")\n",
    "generation = rag_chain.invoke({\"context\": format_docs(res), \"question\": q_3})\n",
    "print(generation)"
   ]
  },
  {
   "cell_type": "code",
   "execution_count": null,
   "id": "cdb5517c-1b04-4624-8514-ac63d8dccd6a",
   "metadata": {},
   "outputs": [],
   "source": []
  }
 ],
 "metadata": {
  "kernelspec": {
   "display_name": "Python 3 (ipykernel)",
   "language": "python",
   "name": "python3"
  },
  "language_info": {
   "codemirror_mode": {
    "name": "ipython",
    "version": 3
   },
   "file_extension": ".py",
   "mimetype": "text/x-python",
   "name": "python",
   "nbconvert_exporter": "python",
   "pygments_lexer": "ipython3",
   "version": "3.11.10"
  }
 },
 "nbformat": 4,
 "nbformat_minor": 5
}
